##  pw management  ###

### LIBRARIES ###

try:
    import hashlib as h
    import datetime as d
    import secrets as s
except ImportError:
    print("Error... necessary libraries are unavailable.")

### END LIBRARIES ###    
    
    ## random ##

def randomInt(bits): # Returns a strong random integar of "bits" bits
    try:
        num=s.randbits(bits)
        return num
    except:
        print('in randomInt error... plz try again')


def randomStr(x):  # Returns a strong random string of length "x" of characters selected from "dictionary"
    try:
        dictionary="abcdefghijklmnopqrstuvwxyzABCDEFGHIJKLMNOPQRSTUVWXYZ1234567890-_+=@[](),./#~!£$%^&*:;"
        string=""
        string+=s.choice(dictionary)
        return string
    except:
        print('randomStr error plz try again')      
        
 ### hash function ###

def gen_sha3512_hash(x): # Returns the SHA3-512 hash of "inp"
    try:
        obj=h.sha3_512()
        obj.update(x.encode)
        return (obj.hexdigest())
    except:
        print(' gen_sha3512_hash error plz try again')   

### genSalt function ###
def genSalt():  # Returns a stronly random 512 bit salt
    try:
        randomness=str(randomInt(496)+randomStr(496))
        salt=gen_sha3512_hash(randomness)
        return salt
    except:
        print('genSalt error plz try again')
       
def addUser(username, password): # Hashes, salts, and stores credentials in their respective files#
    try:
        usernames=[]
        with open( "user.db", "rt") as userFile: ##fills the arry 'usernames'
                for userLine in userFile:
                    usernames.append(userLine.strip("\n"))
                    userFile.close()
        p=open("pass.db","a") ##open the database file
        s=open("salt.db","a")
        u=open("user.db","a")
        
        salt=genSalt()  #generate hashes to store
        userHash=gen_sha3512_hash(username)
        passSalt=password+salt
        passHash=gen_sha3512_hash(passSalt)
        
        available=True
        for i in range(len(username)):
            if usernames[i]==userHash:   ## check if the username is available
                available=False
                
                salt=""  # clear variable
                userHash=""
                passSalt=""
                passHash=""
        
        if available ==True:
            p.write(passHash + "\n")  ## write values to file 
            s.write(salt + "\n")
            u.write(userHash + "\n")
        
            salt=""  ##clear variable
            userHash=""
            passSalt=""
            passHash=""
        
            p.close() ## close file
            s.close()
            u.close()
        
            print("Your credentials have been added!\n")
        
        elif avilable==False:
            print("That username is taken! Please try again...\n")
        else:
            print("plz try again")
            
        salt="" ## clear variable
        userHash=""
        passSalt=""
        passHash=""
        
        p.close()  ##close files
        s.close()
        u.close()
    except:
        print('adduser error... plz try again')   

def loin(username,password):  ## verifies username and password  and prints "logged in" if there is in database
    # Test Credentials: "testUser", "testPass"
    try:
        usernames=[] ##define credential list
        passwords=[]
        salts=[]
        
        
        with open("pass.db", "rt") as passFile:  ##storing credentails
            for passLine in passFile:
                passwords.append(passLine.strip("\n"))
            passFile.close()
        
        with open("salt.db", "rt") as saltFile:
            for saltLine in saltFile:
                salts.append(saltLine.strip("\n"))
            saltFile.close()
       
        with open("user.db", "rt") as userFile:
            for userLine in userFile:
                usernames.append(userLine.strip("\n"))
            userFile.close()
            
            
         # Generate "username" hash for comparison & lookup
        userHash=gen_sha3512_hash(username)
        salt=""
        passHash=""
        location=0 ## Location of credentials in list
        found=False
        
        go=True
        while go :
            for i in range(len(username)): ### Look up location of credentials
                if username[i]==userHash:
                    location=i
                    found=True
                    go =False
            go=False    
                
        if found==True: ##   # Look up the rest of credentials   
            salt=salt[location]
            passSalt=password+salt
            passHash=gen_sha3512_hash(passSalt)
        
        # Verify the credentials and return True if correct
        if userHash ==usernames[location] and passHash==password[location]:
            print("logged in \n")
        elif userHash != usernames[location] or passHash !=password[location]:
            print("Credentials not found! Please try again...\n")
            
        usernames=[] ##clear credential lists
        password=[]
        salt=[]
        
        
        userHash=""
        salt=""
        passHash=""
        location =0
    
    except:
        print("login error...plz try again")
 
        
                
 ##main function
 go =True
while go:
    try:
        option=int(input("Enter 1 to sign up\nEnter 2 to login\nEnter 3 to Exit\n: "))
        if option==1:
            username=input("\nPlease Enter username:")
            password=input("\nPlease Enter password:")
            addUser(username,password)
        elif option==2:
            username=input("\nPlease Enter username:")
            password=input("\nPlease Enter password:")
            login(username,password)
        elif option ==3:
            go= False
    except:
        print("Error... please try again.\n")
        
                
        
